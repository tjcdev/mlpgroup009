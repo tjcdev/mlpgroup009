{
 "cells": [
  {
   "cell_type": "code",
   "execution_count": 1,
   "metadata": {},
   "outputs": [],
   "source": [
    "import gym\n",
    "import baselines\n",
    "import numpy as np"
   ]
  },
  {
   "cell_type": "code",
   "execution_count": 2,
   "metadata": {},
   "outputs": [],
   "source": [
    "from baselines.common.tf_util import get_session, save_variables, load_variables"
   ]
  },
  {
   "cell_type": "code",
   "execution_count": 3,
   "metadata": {},
   "outputs": [],
   "source": [
    "import tensorflow as tf"
   ]
  },
  {
   "cell_type": "code",
   "execution_count": 4,
   "metadata": {},
   "outputs": [],
   "source": [
    "tf.reset_default_graph()"
   ]
  },
  {
   "cell_type": "code",
   "execution_count": null,
   "metadata": {},
   "outputs": [],
   "source": [
    "w = 0.1"
   ]
  },
  {
   "cell_type": "code",
   "execution_count": null,
   "metadata": {},
   "outputs": [],
   "source": [
    "with tf.Session() as sess:\n",
    "    # Load the graph structure into the variables\n",
    "    saver = tf.train.import_meta_graph('00068.meta')\n",
    "    # Restore variables from disk\n",
    "    saver.restore(sess, tf.train.latest_checkpoint('./'))\n",
    "    print(\"model restored\")\n",
    "    \n",
    "    graph = sess.graph\n",
    "    \n",
    "    trainable_variables = graph.get_collection('trainable_variables')\n",
    "    \n",
    "    for i in range(len(trainable_variables)):\n",
    "        print(i)\n",
    "        print(trainable_variables[i])\n",
    "        \n",
    "    \n",
    "    \n",
    "    print(sess.run(trainable_variables[-2]))\n",
    "     \n",
    "#     # Weights    \n",
    "#     shape = sess.run(trainable_variables[-2]).shape\n",
    "#     # Remove weights from list\n",
    "#     trainable_variables.pop(-2)\n",
    "#     # Reinitialise the most recent layer with init weights\n",
    "#     trainable_variables.append(tf.get_variable('new_weights', dtype=tf.float32,\n",
    "#                               initializer= tf.truncated_normal(shape, stddev=w)))\n",
    "#     # TODO: check if that reinitialises ALL variables\n",
    "#     # TODO: We're not sure why you need to do this - so find out\n",
    "#     tf.initialize_all_variables().run()\n",
    "    \n",
    "    print(sess.run(trainable_variables[-2]))\n",
    "    \n",
    "    \n",
    "    print(sess.run(trainable_variables[-1]))\n",
    "        \n",
    "#     # Bias    \n",
    "#     shape = sess.run(trainable_variables[-1]).shape\n",
    "#     trainable_variables.pop(-1)\n",
    "#     initial = tf.constant(w, shape=shape)\n",
    "#     trainable_variables.append(tf.get_variable('new_bias', dtype=tf.float32,\n",
    "#   initializer= tf.constant(w, shape=shape)))\n",
    "#     tf.initialize_all_variables().run()\n",
    "    \n",
    "    print(sess.run(trainable_variables[-1]))\n",
    "                               \n",
    "                               \n",
    "    for i in range(len(trainable_variables)):\n",
    "        print(i)\n",
    "        print(trainable_variables[i])\n",
    "        "
   ]
  },
  {
   "cell_type": "code",
   "execution_count": null,
   "metadata": {},
   "outputs": [],
   "source": [
    "# new_layer = tf.get_variable(\"my_int_variable\", [1, 2, 3], dtype=tf.int32,\n",
    "#   initializer=tf.zeros_initializer)"
   ]
  },
  {
   "cell_type": "code",
   "execution_count": null,
   "metadata": {},
   "outputs": [],
   "source": [
    "# trainable_variables.append(new_layer)"
   ]
  },
  {
   "cell_type": "code",
   "execution_count": null,
   "metadata": {},
   "outputs": [],
   "source": [
    "trainable_variables"
   ]
  },
  {
   "cell_type": "code",
   "execution_count": null,
   "metadata": {},
   "outputs": [],
   "source": [
    "x = trainable_variables[0]"
   ]
  },
  {
   "cell_type": "code",
   "execution_count": null,
   "metadata": {},
   "outputs": [],
   "source": [
    "\n",
    "    \n"
   ]
  },
  {
   "cell_type": "code",
   "execution_count": null,
   "metadata": {},
   "outputs": [],
   "source": [
    "print(sess.run(trainable_variables[0])\n",
    "\n",
    "# trainable_variables[0].load(1, sess"
   ]
  },
  {
   "cell_type": "code",
   "execution_count": null,
   "metadata": {},
   "outputs": [],
   "source": []
  }
 ],
 "metadata": {
  "kernelspec": {
   "display_name": "Python 3",
   "language": "python",
   "name": "python3"
  },
  "language_info": {
   "codemirror_mode": {
    "name": "ipython",
    "version": 3
   },
   "file_extension": ".py",
   "mimetype": "text/x-python",
   "name": "python",
   "nbconvert_exporter": "python",
   "pygments_lexer": "ipython3",
   "version": "3.6.8"
  }
 },
 "nbformat": 4,
 "nbformat_minor": 2
}
