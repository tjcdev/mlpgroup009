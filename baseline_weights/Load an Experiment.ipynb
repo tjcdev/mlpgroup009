{
 "cells": [
  {
   "cell_type": "code",
   "execution_count": 1,
   "metadata": {},
   "outputs": [],
   "source": [
    "import gym\n",
    "import baselines"
   ]
  },
  {
   "cell_type": "code",
   "execution_count": 2,
   "metadata": {},
   "outputs": [],
   "source": [
    "from baselines.common.tf_util import get_session, save_variables, load_variables"
   ]
  },
  {
   "cell_type": "code",
   "execution_count": 6,
   "metadata": {},
   "outputs": [],
   "source": [
    "import tensorflow as tf"
   ]
  },
  {
   "cell_type": "code",
   "execution_count": 7,
   "metadata": {},
   "outputs": [],
   "source": [
    "tf.reset_default_graph()"
   ]
  },
  {
   "cell_type": "code",
   "execution_count": 17,
   "metadata": {},
   "outputs": [
    {
     "name": "stdout",
     "output_type": "stream",
     "text": [
      "INFO:tensorflow:Restoring parameters from ./ppo2_bip\n",
      "model restored\n"
     ]
    }
   ],
   "source": [
    "with tf.Session() as sess:\n",
    "    # Load the graph structure into the variables\n",
    "    saver = tf.train.import_meta_graph('ppo2_bip.meta')\n",
    "    # Restore variables from disk\n",
    "    saver.restore(sess, tf.train.latest_checkpoint('./'))\n",
    "    print(\"model restored\")"
   ]
  },
  {
   "cell_type": "code",
   "execution_count": 19,
   "metadata": {},
   "outputs": [],
   "source": [
    "graph = sess.graph"
   ]
  },
  {
   "cell_type": "code",
   "execution_count": 23,
   "metadata": {},
   "outputs": [
    {
     "data": {
      "text/plain": [
       "['train_op', 'trainable_variables', 'variables']"
      ]
     },
     "execution_count": 23,
     "metadata": {},
     "output_type": "execute_result"
    }
   ],
   "source": [
    "graph.get_all_collection_keys()"
   ]
  },
  {
   "cell_type": "code",
   "execution_count": 28,
   "metadata": {},
   "outputs": [],
   "source": [
    "trainable_variables = graph.get_collection('trainable_variables')"
   ]
  },
  {
   "cell_type": "code",
   "execution_count": 29,
   "metadata": {},
   "outputs": [
    {
     "data": {
      "text/plain": [
       "[<tf.Variable 'ppo2_model/pi/mlp_fc0/w:0' shape=(24, 64) dtype=float32_ref>,\n",
       " <tf.Variable 'ppo2_model/pi/mlp_fc0/b:0' shape=(64,) dtype=float32_ref>,\n",
       " <tf.Variable 'ppo2_model/pi/mlp_fc1/w:0' shape=(64, 64) dtype=float32_ref>,\n",
       " <tf.Variable 'ppo2_model/pi/mlp_fc1/b:0' shape=(64,) dtype=float32_ref>,\n",
       " <tf.Variable 'ppo2_model/pi/w:0' shape=(64, 4) dtype=float32_ref>,\n",
       " <tf.Variable 'ppo2_model/pi/b:0' shape=(4,) dtype=float32_ref>,\n",
       " <tf.Variable 'ppo2_model/pi/logstd:0' shape=(1, 4) dtype=float32_ref>,\n",
       " <tf.Variable 'ppo2_model/vf/w:0' shape=(64, 1) dtype=float32_ref>,\n",
       " <tf.Variable 'ppo2_model/vf/b:0' shape=(1,) dtype=float32_ref>]"
      ]
     },
     "execution_count": 29,
     "metadata": {},
     "output_type": "execute_result"
    }
   ],
   "source": [
    "trainable_variables"
   ]
  },
  {
   "cell_type": "code",
   "execution_count": 35,
   "metadata": {},
   "outputs": [
    {
     "data": {
      "text/plain": [
       "<tf.Tensor 'strided_slice_10:0' shape=() dtype=float32>"
      ]
     },
     "execution_count": 35,
     "metadata": {},
     "output_type": "execute_result"
    }
   ],
   "source": []
  },
  {
   "cell_type": "code",
   "execution_count": null,
   "metadata": {},
   "outputs": [],
   "source": []
  }
 ],
 "metadata": {
  "kernelspec": {
   "display_name": "Python 3",
   "language": "python",
   "name": "python3"
  },
  "language_info": {
   "codemirror_mode": {
    "name": "ipython",
    "version": 3
   },
   "file_extension": ".py",
   "mimetype": "text/x-python",
   "name": "python",
   "nbconvert_exporter": "python",
   "pygments_lexer": "ipython3",
   "version": "3.6.8"
  }
 },
 "nbformat": 4,
 "nbformat_minor": 2
}
