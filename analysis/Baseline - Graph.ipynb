{
 "cells": [
  {
   "cell_type": "code",
   "execution_count": 6,
   "metadata": {},
   "outputs": [],
   "source": [
    "import pandas as pd\n",
    "import seaborn as sns\n",
    "sns.set()"
   ]
  },
  {
   "cell_type": "code",
   "execution_count": 7,
   "metadata": {},
   "outputs": [],
   "source": [
    "data_df = pd.read_json('test_result_json_example.json')"
   ]
  },
  {
   "cell_type": "code",
   "execution_count": 8,
   "metadata": {},
   "outputs": [
    {
     "data": {
      "text/html": [
       "<div>\n",
       "<style scoped>\n",
       "    .dataframe tbody tr th:only-of-type {\n",
       "        vertical-align: middle;\n",
       "    }\n",
       "\n",
       "    .dataframe tbody tr th {\n",
       "        vertical-align: top;\n",
       "    }\n",
       "\n",
       "    .dataframe thead th {\n",
       "        text-align: right;\n",
       "    }\n",
       "</style>\n",
       "<table border=\"1\" class=\"dataframe\">\n",
       "  <thead>\n",
       "    <tr style=\"text-align: right;\">\n",
       "      <th></th>\n",
       "      <th>approxkl</th>\n",
       "      <th>clipfrac</th>\n",
       "      <th>eplenmean</th>\n",
       "      <th>eprewmean</th>\n",
       "      <th>explained_variance</th>\n",
       "      <th>fps</th>\n",
       "      <th>nupdates</th>\n",
       "      <th>policy_entropy</th>\n",
       "      <th>policy_loss</th>\n",
       "      <th>serial_timesteps</th>\n",
       "      <th>time_elapsed</th>\n",
       "      <th>total_timesteps</th>\n",
       "      <th>value_loss</th>\n",
       "    </tr>\n",
       "  </thead>\n",
       "  <tbody>\n",
       "    <tr>\n",
       "      <th>0</th>\n",
       "      <td>0.034520</td>\n",
       "      <td>0.324766</td>\n",
       "      <td>76.000000</td>\n",
       "      <td>-114.228459</td>\n",
       "      <td>-0.009944</td>\n",
       "      <td>22</td>\n",
       "      <td>1</td>\n",
       "      <td>5.574182</td>\n",
       "      <td>-0.059520</td>\n",
       "      <td>1000</td>\n",
       "      <td>45.261910</td>\n",
       "      <td>1000</td>\n",
       "      <td>142.295135</td>\n",
       "    </tr>\n",
       "    <tr>\n",
       "      <th>1</th>\n",
       "      <td>0.037191</td>\n",
       "      <td>0.374718</td>\n",
       "      <td>331.166667</td>\n",
       "      <td>-111.109284</td>\n",
       "      <td>0.008449</td>\n",
       "      <td>25</td>\n",
       "      <td>2</td>\n",
       "      <td>5.391890</td>\n",
       "      <td>-0.059907</td>\n",
       "      <td>2000</td>\n",
       "      <td>84.709500</td>\n",
       "      <td>2000</td>\n",
       "      <td>85.437195</td>\n",
       "    </tr>\n",
       "    <tr>\n",
       "      <th>2</th>\n",
       "      <td>0.025334</td>\n",
       "      <td>0.390771</td>\n",
       "      <td>292.714286</td>\n",
       "      <td>-109.946928</td>\n",
       "      <td>0.010651</td>\n",
       "      <td>25</td>\n",
       "      <td>3</td>\n",
       "      <td>5.238696</td>\n",
       "      <td>-0.047903</td>\n",
       "      <td>3000</td>\n",
       "      <td>124.179872</td>\n",
       "      <td>3000</td>\n",
       "      <td>42.911850</td>\n",
       "    </tr>\n",
       "    <tr>\n",
       "      <th>3</th>\n",
       "      <td>0.046560</td>\n",
       "      <td>0.559720</td>\n",
       "      <td>380.900000</td>\n",
       "      <td>-110.816620</td>\n",
       "      <td>0.003521</td>\n",
       "      <td>25</td>\n",
       "      <td>4</td>\n",
       "      <td>5.031892</td>\n",
       "      <td>-0.075024</td>\n",
       "      <td>4000</td>\n",
       "      <td>163.936287</td>\n",
       "      <td>4000</td>\n",
       "      <td>90.525642</td>\n",
       "    </tr>\n",
       "    <tr>\n",
       "      <th>4</th>\n",
       "      <td>0.087128</td>\n",
       "      <td>0.648928</td>\n",
       "      <td>380.900000</td>\n",
       "      <td>-110.816620</td>\n",
       "      <td>0.375311</td>\n",
       "      <td>25</td>\n",
       "      <td>5</td>\n",
       "      <td>4.811838</td>\n",
       "      <td>-0.122003</td>\n",
       "      <td>5000</td>\n",
       "      <td>203.684156</td>\n",
       "      <td>5000</td>\n",
       "      <td>0.294516</td>\n",
       "    </tr>\n",
       "  </tbody>\n",
       "</table>\n",
       "</div>"
      ],
      "text/plain": [
       "   approxkl  clipfrac   eplenmean   eprewmean  explained_variance  fps  \\\n",
       "0  0.034520  0.324766   76.000000 -114.228459           -0.009944   22   \n",
       "1  0.037191  0.374718  331.166667 -111.109284            0.008449   25   \n",
       "2  0.025334  0.390771  292.714286 -109.946928            0.010651   25   \n",
       "3  0.046560  0.559720  380.900000 -110.816620            0.003521   25   \n",
       "4  0.087128  0.648928  380.900000 -110.816620            0.375311   25   \n",
       "\n",
       "   nupdates  policy_entropy  policy_loss  serial_timesteps  time_elapsed  \\\n",
       "0         1        5.574182    -0.059520              1000     45.261910   \n",
       "1         2        5.391890    -0.059907              2000     84.709500   \n",
       "2         3        5.238696    -0.047903              3000    124.179872   \n",
       "3         4        5.031892    -0.075024              4000    163.936287   \n",
       "4         5        4.811838    -0.122003              5000    203.684156   \n",
       "\n",
       "   total_timesteps  value_loss  \n",
       "0             1000  142.295135  \n",
       "1             2000   85.437195  \n",
       "2             3000   42.911850  \n",
       "3             4000   90.525642  \n",
       "4             5000    0.294516  "
      ]
     },
     "execution_count": 8,
     "metadata": {},
     "output_type": "execute_result"
    }
   ],
   "source": [
    "data_df.head()"
   ]
  },
  {
   "cell_type": "code",
   "execution_count": 10,
   "metadata": {},
   "outputs": [
    {
     "data": {
      "text/plain": [
       "<matplotlib.axes._subplots.AxesSubplot at 0x1a1438db00>"
      ]
     },
     "execution_count": 10,
     "metadata": {},
     "output_type": "execute_result"
    },
    {
     "data": {
      "image/png": "[encoded data removed]",
      "text/plain": [
       "<Figure size 432x288 with 1 Axes>"
      ]
     },
     "metadata": {
      "needs_background": "light"
     },
     "output_type": "display_data"
    }
   ],
   "source": [
    "sns.pointplot(x=\"nupdates\", y=\"eprewmean\", data=data_df)"
   ]
  },
  {
   "cell_type": "code",
   "execution_count": null,
   "metadata": {},
   "outputs": [],
   "source": []
  }
 ],
 "metadata": {
  "kernelspec": {
   "display_name": "Python 3",
   "language": "python",
   "name": "python3"
  },
  "language_info": {
   "codemirror_mode": {
    "name": "ipython",
    "version": 3
   },
   "file_extension": ".py",
   "mimetype": "text/x-python",
   "name": "python",
   "nbconvert_exporter": "python",
   "pygments_lexer": "ipython3",
   "version": "3.6.8"
  }
 },
 "nbformat": 4,
 "nbformat_minor": 2
}
